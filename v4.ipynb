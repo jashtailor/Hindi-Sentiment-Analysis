{
  "cells": [
    {
      "cell_type": "code",
      "execution_count": null,
      "metadata": {
        "colab": {
          "base_uri": "https://localhost:8080/"
        },
        "id": "gWEhNxXOiVUk",
        "outputId": "28949a7e-faba-4502-f309-61520de3cfbf"
      },
      "outputs": [
        {
          "output_type": "stream",
          "name": "stdout",
          "text": [
            "Drive already mounted at /content/drive; to attempt to forcibly remount, call drive.mount(\"/content/drive\", force_remount=True).\n"
          ]
        }
      ],
      "source": [
        "from google.colab import drive \n",
        "drive.mount('/content/drive')"
      ]
    },
    {
      "cell_type": "code",
      "execution_count": null,
      "metadata": {
        "id": "EojkQmsziabh"
      },
      "outputs": [],
      "source": [
        "import pandas as pd\n",
        "import numpy as np\n",
        "\n",
        "import json \n",
        "\n",
        "from sklearn import preprocessing\n",
        "from sklearn.model_selection import train_test_split\n",
        "from sklearn.linear_model import LogisticRegression\n",
        "from sklearn.ensemble import RandomForestClassifier\n",
        "from sklearn.linear_model import SGDClassifier\n",
        "from sklearn.svm import SVC\n",
        "from sklearn.svm import LinearSVC\n",
        "from sklearn.naive_bayes import GaussianNB\n",
        "from sklearn.naive_bayes import BernoulliNB\n",
        "from sklearn.naive_bayes import MultinomialNB\n",
        "from sklearn.ensemble import AdaBoostClassifier\n",
        "from lightgbm import LGBMClassifier\n",
        "from sklearn.ensemble import GradientBoostingClassifier\n",
        "from sklearn import metrics\n",
        "from sklearn.metrics import classification_report\n",
        "from sklearn.metrics import accuracy_score\n",
        "\n",
        "import plotly.express as px\n",
        "import plotly.graph_objects as go\n",
        "import plotly.figure_factory as ff\n",
        "\n",
        "import matplotlib.pyplot as plt\n",
        "import pydot\n",
        "from sklearn import tree\n",
        "from sklearn.tree import export_graphviz\n",
        "import shutil"
      ]
    },
    {
      "cell_type": "code",
      "execution_count": null,
      "metadata": {
        "colab": {
          "base_uri": "https://localhost:8080/",
          "height": 206
        },
        "id": "KM3K898-icme",
        "outputId": "3e911390-5bd6-4753-e954-079896555677"
      },
      "outputs": [
        {
          "output_type": "execute_result",
          "data": {
            "text/plain": [
              "                                               texts  sentiment\n",
              "0  लोग वतन तक खा जाते हैं इसका इसे यकीन नहींमान ज...          0\n",
              "1  गुमनाम है वतन पर मिटने वाले लोग आतन्कवादियों स...          0\n",
              "2  ज़ंजीर बदली जा रही थी मैं समझा था रिहाई हो गयी है          0\n",
              "3  यूपी में बड़े स्तर पर दंगे करवा सकती है बीजेपी...          0\n",
              "4  अंग्रेजी नहीं आती है इसलिए हिन्दी ट्विट ज्यादा...          0"
            ],
            "text/html": [
              "\n",
              "  <div id=\"df-c672bc11-be57-4585-a516-778ee198718f\">\n",
              "    <div class=\"colab-df-container\">\n",
              "      <div>\n",
              "<style scoped>\n",
              "    .dataframe tbody tr th:only-of-type {\n",
              "        vertical-align: middle;\n",
              "    }\n",
              "\n",
              "    .dataframe tbody tr th {\n",
              "        vertical-align: top;\n",
              "    }\n",
              "\n",
              "    .dataframe thead th {\n",
              "        text-align: right;\n",
              "    }\n",
              "</style>\n",
              "<table border=\"1\" class=\"dataframe\">\n",
              "  <thead>\n",
              "    <tr style=\"text-align: right;\">\n",
              "      <th></th>\n",
              "      <th>texts</th>\n",
              "      <th>sentiment</th>\n",
              "    </tr>\n",
              "  </thead>\n",
              "  <tbody>\n",
              "    <tr>\n",
              "      <th>0</th>\n",
              "      <td>लोग वतन तक खा जाते हैं इसका इसे यकीन नहींमान ज...</td>\n",
              "      <td>0</td>\n",
              "    </tr>\n",
              "    <tr>\n",
              "      <th>1</th>\n",
              "      <td>गुमनाम है वतन पर मिटने वाले लोग आतन्कवादियों स...</td>\n",
              "      <td>0</td>\n",
              "    </tr>\n",
              "    <tr>\n",
              "      <th>2</th>\n",
              "      <td>ज़ंजीर बदली जा रही थी मैं समझा था रिहाई हो गयी है</td>\n",
              "      <td>0</td>\n",
              "    </tr>\n",
              "    <tr>\n",
              "      <th>3</th>\n",
              "      <td>यूपी में बड़े स्तर पर दंगे करवा सकती है बीजेपी...</td>\n",
              "      <td>0</td>\n",
              "    </tr>\n",
              "    <tr>\n",
              "      <th>4</th>\n",
              "      <td>अंग्रेजी नहीं आती है इसलिए हिन्दी ट्विट ज्यादा...</td>\n",
              "      <td>0</td>\n",
              "    </tr>\n",
              "  </tbody>\n",
              "</table>\n",
              "</div>\n",
              "      <button class=\"colab-df-convert\" onclick=\"convertToInteractive('df-c672bc11-be57-4585-a516-778ee198718f')\"\n",
              "              title=\"Convert this dataframe to an interactive table.\"\n",
              "              style=\"display:none;\">\n",
              "        \n",
              "  <svg xmlns=\"http://www.w3.org/2000/svg\" height=\"24px\"viewBox=\"0 0 24 24\"\n",
              "       width=\"24px\">\n",
              "    <path d=\"M0 0h24v24H0V0z\" fill=\"none\"/>\n",
              "    <path d=\"M18.56 5.44l.94 2.06.94-2.06 2.06-.94-2.06-.94-.94-2.06-.94 2.06-2.06.94zm-11 1L8.5 8.5l.94-2.06 2.06-.94-2.06-.94L8.5 2.5l-.94 2.06-2.06.94zm10 10l.94 2.06.94-2.06 2.06-.94-2.06-.94-.94-2.06-.94 2.06-2.06.94z\"/><path d=\"M17.41 7.96l-1.37-1.37c-.4-.4-.92-.59-1.43-.59-.52 0-1.04.2-1.43.59L10.3 9.45l-7.72 7.72c-.78.78-.78 2.05 0 2.83L4 21.41c.39.39.9.59 1.41.59.51 0 1.02-.2 1.41-.59l7.78-7.78 2.81-2.81c.8-.78.8-2.07 0-2.86zM5.41 20L4 18.59l7.72-7.72 1.47 1.35L5.41 20z\"/>\n",
              "  </svg>\n",
              "      </button>\n",
              "      \n",
              "  <style>\n",
              "    .colab-df-container {\n",
              "      display:flex;\n",
              "      flex-wrap:wrap;\n",
              "      gap: 12px;\n",
              "    }\n",
              "\n",
              "    .colab-df-convert {\n",
              "      background-color: #E8F0FE;\n",
              "      border: none;\n",
              "      border-radius: 50%;\n",
              "      cursor: pointer;\n",
              "      display: none;\n",
              "      fill: #1967D2;\n",
              "      height: 32px;\n",
              "      padding: 0 0 0 0;\n",
              "      width: 32px;\n",
              "    }\n",
              "\n",
              "    .colab-df-convert:hover {\n",
              "      background-color: #E2EBFA;\n",
              "      box-shadow: 0px 1px 2px rgba(60, 64, 67, 0.3), 0px 1px 3px 1px rgba(60, 64, 67, 0.15);\n",
              "      fill: #174EA6;\n",
              "    }\n",
              "\n",
              "    [theme=dark] .colab-df-convert {\n",
              "      background-color: #3B4455;\n",
              "      fill: #D2E3FC;\n",
              "    }\n",
              "\n",
              "    [theme=dark] .colab-df-convert:hover {\n",
              "      background-color: #434B5C;\n",
              "      box-shadow: 0px 1px 3px 1px rgba(0, 0, 0, 0.15);\n",
              "      filter: drop-shadow(0px 1px 2px rgba(0, 0, 0, 0.3));\n",
              "      fill: #FFFFFF;\n",
              "    }\n",
              "  </style>\n",
              "\n",
              "      <script>\n",
              "        const buttonEl =\n",
              "          document.querySelector('#df-c672bc11-be57-4585-a516-778ee198718f button.colab-df-convert');\n",
              "        buttonEl.style.display =\n",
              "          google.colab.kernel.accessAllowed ? 'block' : 'none';\n",
              "\n",
              "        async function convertToInteractive(key) {\n",
              "          const element = document.querySelector('#df-c672bc11-be57-4585-a516-778ee198718f');\n",
              "          const dataTable =\n",
              "            await google.colab.kernel.invokeFunction('convertToInteractive',\n",
              "                                                     [key], {});\n",
              "          if (!dataTable) return;\n",
              "\n",
              "          const docLinkHtml = 'Like what you see? Visit the ' +\n",
              "            '<a target=\"_blank\" href=https://colab.research.google.com/notebooks/data_table.ipynb>data table notebook</a>'\n",
              "            + ' to learn more about interactive tables.';\n",
              "          element.innerHTML = '';\n",
              "          dataTable['output_type'] = 'display_data';\n",
              "          await google.colab.output.renderOutput(dataTable, element);\n",
              "          const docLink = document.createElement('div');\n",
              "          docLink.innerHTML = docLinkHtml;\n",
              "          element.appendChild(docLink);\n",
              "        }\n",
              "      </script>\n",
              "    </div>\n",
              "  </div>\n",
              "  "
            ]
          },
          "metadata": {},
          "execution_count": 95
        }
      ],
      "source": [
        "df = pd.read_csv('/content/drive/MyDrive/sem8/nlp/mini p /dataset.csv')\n",
        "df.drop(['Unnamed: 0'], axis=1, inplace=True)\n",
        "df.drop(df.index[df['sentiment']=='neutral'], axis=0, inplace=True)\n",
        "df = df.replace('positive', 1)\n",
        "df = df.replace('negative', 0)\n",
        "df.head()"
      ]
    },
    {
      "cell_type": "code",
      "execution_count": null,
      "metadata": {
        "colab": {
          "base_uri": "https://localhost:8080/"
        },
        "id": "z2afo5CQKiBl",
        "outputId": "7b8db61b-27c1-44d0-d297-8d552f4211ce"
      },
      "outputs": [
        {
          "output_type": "execute_result",
          "data": {
            "text/plain": [
              "(6428, 2)"
            ]
          },
          "metadata": {},
          "execution_count": 96
        }
      ],
      "source": [
        "df.shape"
      ]
    },
    {
      "cell_type": "code",
      "execution_count": null,
      "metadata": {
        "colab": {
          "base_uri": "https://localhost:8080/"
        },
        "id": "AuQMY0Q4ITe7",
        "outputId": "d0d62c90-68e2-409e-d72c-472eec65f27d"
      },
      "outputs": [
        {
          "output_type": "execute_result",
          "data": {
            "text/plain": [
              "texts        3254\n",
              "sentiment    3254\n",
              "dtype: int64"
            ]
          },
          "metadata": {},
          "execution_count": 97
        }
      ],
      "source": [
        "df.loc[df['sentiment']==1].count()"
      ]
    },
    {
      "cell_type": "code",
      "execution_count": null,
      "metadata": {
        "colab": {
          "base_uri": "https://localhost:8080/"
        },
        "id": "R11l1rB4Ihzr",
        "outputId": "28a48994-a718-4a75-c607-786ff38db1f5"
      },
      "outputs": [
        {
          "output_type": "execute_result",
          "data": {
            "text/plain": [
              "texts        3174\n",
              "sentiment    3174\n",
              "dtype: int64"
            ]
          },
          "metadata": {},
          "execution_count": 98
        }
      ],
      "source": [
        "df.loc[df['sentiment']==0].count()"
      ]
    },
    {
      "cell_type": "markdown",
      "metadata": {
        "id": "olS7zCbpEIxA"
      },
      "source": [
        "## Preprocessing"
      ]
    },
    {
      "cell_type": "code",
      "execution_count": null,
      "metadata": {
        "id": "fYmtl-056An-"
      },
      "outputs": [],
      "source": [
        "texts = df['texts']\n",
        "sentiment = df['sentiment']"
      ]
    },
    {
      "cell_type": "code",
      "execution_count": null,
      "metadata": {
        "id": "y9QQR_IZi7cU"
      },
      "outputs": [],
      "source": [
        "# tokenizing the text\n",
        "tokenized_text = []\n",
        "for each in texts:\n",
        "    lst = each.split(' ')\n",
        "    tokenized_text.append(lst)"
      ]
    },
    {
      "cell_type": "code",
      "execution_count": null,
      "metadata": {
        "id": "MS2BxcdPi-_V"
      },
      "outputs": [],
      "source": [
        "# assigning each word an integer\n",
        "count = 1\n",
        "int_dict = {}\n",
        "for each in tokenized_text:\n",
        "    for each_one in each:\n",
        "        if each_one not in int_dict:\n",
        "            int_dict[each_one] = count \n",
        "            count = count + 1"
      ]
    },
    {
      "cell_type": "code",
      "execution_count": null,
      "metadata": {
        "id": "WDBzAkE2jAQM"
      },
      "outputs": [],
      "source": [
        "# text to sequences\n",
        "text_to_sequences = []\n",
        "for each in tokenized_text:\n",
        "    lst = []\n",
        "    for each_one in each:\n",
        "        lst.append(int_dict[each_one])\n",
        "    text_to_sequences.append(lst)"
      ]
    },
    {
      "cell_type": "code",
      "execution_count": null,
      "metadata": {
        "colab": {
          "base_uri": "https://localhost:8080/"
        },
        "id": "sKz73JNhFCvu",
        "outputId": "f7de4b51-6088-43a8-ab81-d31f081f4158"
      },
      "outputs": [
        {
          "output_type": "stream",
          "name": "stdout",
          "text": [
            "['क्या', 'मिले', 'हुए', 'मौके', 'को', 'ऐसे', 'गंवाया', 'जा', 'सकता', 'है?', 'समस्या', 'यह', 'है', 'कि', 'अभी', 'ठीक', 'ढंग', 'से', 'स्थापित', 'नहीं', 'हो', 'सके', 'विशाल', 'भारद्वाज', 'और', 'अनुराग', 'कश्यप', 'की', 'शैलियों', 'की', 'नकल', 'में', 'मनीष', 'तिवारी', 'अपनी', 'पहली', 'फिल्म', \"'दिल\", 'दोस्ती', \"एटसेट्रा'\", 'की', 'सादगी', 'और', 'गहराई', 'भी', 'भूल', 'गए', 'हैं'] \n",
            " 48\n"
          ]
        }
      ],
      "source": [
        "# finding out the length of the longest piece of text\n",
        "max_len = 0\n",
        "for each in tokenized_text:\n",
        "    if len(each) > max_len:\n",
        "        max_len = len(each)\n",
        "        value = each\n",
        "\n",
        "print(value, '\\n', max_len)"
      ]
    },
    {
      "cell_type": "code",
      "execution_count": null,
      "metadata": {
        "id": "mOJNAQ1tjBgA"
      },
      "outputs": [],
      "source": [
        "# padded the text to sequences to make them all the same length \n",
        "padded = []\n",
        "for each in text_to_sequences:\n",
        "    difference = max_len - len(each)\n",
        "    each = [0]*difference + each\n",
        "    padded.append(each)\n",
        "\n",
        "# converting list to numpy array\n",
        "padded1 = np.asarray(padded, dtype=np.float64)"
      ]
    },
    {
      "cell_type": "markdown",
      "metadata": {
        "id": "W4yp2Ngrs8CR"
      },
      "source": [
        "## Training and Testing"
      ]
    },
    {
      "cell_type": "code",
      "execution_count": null,
      "metadata": {
        "id": "0gtSj9NfHoW_"
      },
      "outputs": [],
      "source": [
        "X = padded1\n",
        "y = sentiment"
      ]
    },
    {
      "cell_type": "code",
      "execution_count": null,
      "metadata": {
        "id": "PuNMk9APHwzz"
      },
      "outputs": [],
      "source": [
        "X_train, X_test, y_train, y_test = train_test_split(X, y, test_size=0.3, random_state = 42)"
      ]
    },
    {
      "cell_type": "code",
      "execution_count": null,
      "metadata": {
        "colab": {
          "base_uri": "https://localhost:8080/"
        },
        "id": "A0Qxy3kiHy27",
        "outputId": "803cf0eb-06d3-440d-c015-d987353bcbbc"
      },
      "outputs": [
        {
          "output_type": "stream",
          "name": "stdout",
          "text": [
            "======================================\n",
            "Accuracy Logistic Regression: 58.631 \n",
            "\n",
            "              precision    recall  f1-score   support\n",
            "\n",
            "           0       0.59      0.59      0.59       979\n",
            "           1       0.58      0.58      0.58       950\n",
            "\n",
            "    accuracy                           0.59      1929\n",
            "   macro avg       0.59      0.59      0.59      1929\n",
            "weighted avg       0.59      0.59      0.59      1929\n",
            "\n",
            "======================================\n",
            "======================================\n",
            "Accuracy Random Forest: 81.545 \n",
            "\n",
            "              precision    recall  f1-score   support\n",
            "\n",
            "           0       0.83      0.80      0.82       979\n",
            "           1       0.80      0.83      0.82       950\n",
            "\n",
            "    accuracy                           0.82      1929\n",
            "   macro avg       0.82      0.82      0.82      1929\n",
            "weighted avg       0.82      0.82      0.82      1929\n",
            "\n",
            "======================================\n",
            "======================================\n",
            "Accuracy Stochastic Gradient Descent: 51.115 \n",
            "\n",
            "              precision    recall  f1-score   support\n",
            "\n",
            "           0       0.52      0.43      0.47       979\n",
            "           1       0.50      0.59      0.54       950\n",
            "\n",
            "    accuracy                           0.51      1929\n",
            "   macro avg       0.51      0.51      0.51      1929\n",
            "weighted avg       0.51      0.51      0.51      1929\n",
            "\n",
            "======================================\n",
            "======================================\n",
            "Accuracy Support Vector Machine: 65.63 \n",
            "\n",
            "              precision    recall  f1-score   support\n",
            "\n",
            "           0       0.67      0.63      0.65       979\n",
            "           1       0.64      0.69      0.66       950\n",
            "\n",
            "    accuracy                           0.66      1929\n",
            "   macro avg       0.66      0.66      0.66      1929\n",
            "weighted avg       0.66      0.66      0.66      1929\n",
            "\n",
            "======================================\n"
          ]
        },
        {
          "output_type": "stream",
          "name": "stderr",
          "text": [
            "/usr/local/lib/python3.7/dist-packages/sklearn/svm/_base.py:1208: ConvergenceWarning:\n",
            "\n",
            "Liblinear failed to converge, increase the number of iterations.\n",
            "\n"
          ]
        },
        {
          "output_type": "stream",
          "name": "stdout",
          "text": [
            "======================================\n",
            "Accuracy Linear Support Vector Classification: 55.21 \n",
            "\n",
            "              precision    recall  f1-score   support\n",
            "\n",
            "           0       0.64      0.28      0.38       979\n",
            "           1       0.53      0.84      0.65       950\n",
            "\n",
            "    accuracy                           0.55      1929\n",
            "   macro avg       0.58      0.56      0.52      1929\n",
            "weighted avg       0.58      0.55      0.51      1929\n",
            "\n",
            "======================================\n",
            "======================================\n",
            "Accuracy Naive Bayes: 49.819 \n",
            "\n",
            "              precision    recall  f1-score   support\n",
            "\n",
            "           0       0.72      0.02      0.04       979\n",
            "           1       0.50      0.99      0.66       950\n",
            "\n",
            "    accuracy                           0.50      1929\n",
            "   macro avg       0.61      0.51      0.35      1929\n",
            "weighted avg       0.61      0.50      0.34      1929\n",
            "\n",
            "======================================\n",
            "======================================\n",
            "Accuracy Bernoulli Naive Bayes: 51.322 \n",
            "\n",
            "              precision    recall  f1-score   support\n",
            "\n",
            "           0       0.53      0.41      0.46       979\n",
            "           1       0.50      0.62      0.55       950\n",
            "\n",
            "    accuracy                           0.51      1929\n",
            "   macro avg       0.52      0.51      0.51      1929\n",
            "weighted avg       0.52      0.51      0.51      1929\n",
            "\n",
            "======================================\n",
            "======================================\n",
            "Accuracy Multinomial Naive Bayes: 52.929 \n",
            "\n",
            "              precision    recall  f1-score   support\n",
            "\n",
            "           0       0.54      0.48      0.51       979\n",
            "           1       0.52      0.58      0.55       950\n",
            "\n",
            "    accuracy                           0.53      1929\n",
            "   macro avg       0.53      0.53      0.53      1929\n",
            "weighted avg       0.53      0.53      0.53      1929\n",
            "\n",
            "======================================\n",
            "======================================\n",
            "Accuracy AdaBoost: 84.292 \n",
            "\n",
            "              precision    recall  f1-score   support\n",
            "\n",
            "           0       0.86      0.82      0.84       979\n",
            "           1       0.82      0.87      0.84       950\n",
            "\n",
            "    accuracy                           0.84      1929\n",
            "   macro avg       0.84      0.84      0.84      1929\n",
            "weighted avg       0.84      0.84      0.84      1929\n",
            "\n",
            "======================================\n",
            "======================================\n",
            "Accuracy Light Gradient Boosting Machine: 91.34299999999999 \n",
            "\n",
            "              precision    recall  f1-score   support\n",
            "\n",
            "           0       0.91      0.92      0.91       979\n",
            "           1       0.91      0.91      0.91       950\n",
            "\n",
            "    accuracy                           0.91      1929\n",
            "   macro avg       0.91      0.91      0.91      1929\n",
            "weighted avg       0.91      0.91      0.91      1929\n",
            "\n",
            "======================================\n",
            "======================================\n",
            "Accuracy Gradient Boost Classifier: 82.841 \n",
            "\n",
            "              precision    recall  f1-score   support\n",
            "\n",
            "           0       0.85      0.80      0.83       979\n",
            "           1       0.81      0.86      0.83       950\n",
            "\n",
            "    accuracy                           0.83      1929\n",
            "   macro avg       0.83      0.83      0.83      1929\n",
            "weighted avg       0.83      0.83      0.83      1929\n",
            "\n",
            "======================================\n"
          ]
        }
      ],
      "source": [
        "# this function helps in plotting the accuracy of the models\n",
        "name_arr = []\n",
        "acc_arr = []\n",
        "def lst_append(name, acc):\n",
        "  name_arr.append(name)\n",
        "  acc_arr.append(acc)\n",
        "  \n",
        "def model_perf(model, name):\n",
        "  model.fit(X_train, y_train)\n",
        "  preds = model.predict(X_test)\n",
        "  acc = round(accuracy_score(y_test, preds), 5)*100\n",
        "  acc_lst = lst_append(name, acc)\n",
        "  print('======================================')\n",
        "  print('Accuracy ' + f'{name}' + ':', acc,'\\n')\n",
        "  print(classification_report(y_test, preds))\n",
        "  print('======================================')\n",
        "\n",
        "LogReg = LogisticRegression(random_state=0, max_iter=10000)\n",
        "model_perf(LogReg, 'Logistic Regression')\n",
        "\n",
        "RFC = RandomForestClassifier(criterion = 'gini')\n",
        "model_perf(RFC, 'Random Forest')\n",
        "\n",
        "SGDC = SGDClassifier(max_iter=1000, tol=1e-3)\n",
        "model_perf(SGDC, 'Stochastic Gradient Descent')\n",
        "\n",
        "svm = SVC()\n",
        "model_perf(svm, 'Support Vector Machine')\n",
        "\n",
        "LSVC = LinearSVC(random_state=0, tol=1e-5)\n",
        "model_perf(LSVC, 'Linear Support Vector Classification')\n",
        "\n",
        "GNB = GaussianNB()\n",
        "model_perf(GNB, 'Naive Bayes')\n",
        "\n",
        "BNB = BernoulliNB()\n",
        "model_perf(BNB, 'Bernoulli Naive Bayes')\n",
        "\n",
        "MNB = MultinomialNB()\n",
        "model_perf(MNB, 'Multinomial Naive Bayes')\n",
        "\n",
        "AdaB = AdaBoostClassifier(n_estimators=100, random_state=0)\n",
        "model_perf(AdaB, 'AdaBoost')\n",
        "\n",
        "LGBM = LGBMClassifier(random_state=5)\n",
        "model_perf(LGBM, 'Light Gradient Boosting Machine')\n",
        "\n",
        "GBC = GradientBoostingClassifier(n_estimators=100, learning_rate=1.0, max_depth=1, random_state=0)\n",
        "model_perf(GBC, 'Gradient Boost Classifier')"
      ]
    },
    {
      "cell_type": "code",
      "execution_count": null,
      "metadata": {
        "colab": {
          "base_uri": "https://localhost:8080/",
          "height": 542
        },
        "id": "AUCVjDwLIEg7",
        "outputId": "b895360f-bf6f-41ee-8d90-f3e65a7ed502"
      },
      "outputs": [
        {
          "output_type": "display_data",
          "data": {
            "text/html": [
              "<html>\n",
              "<head><meta charset=\"utf-8\" /></head>\n",
              "<body>\n",
              "    <div>            <script src=\"https://cdnjs.cloudflare.com/ajax/libs/mathjax/2.7.5/MathJax.js?config=TeX-AMS-MML_SVG\"></script><script type=\"text/javascript\">if (window.MathJax) {MathJax.Hub.Config({SVG: {font: \"STIX-Web\"}});}</script>                <script type=\"text/javascript\">window.PlotlyConfig = {MathJaxConfig: 'local'};</script>\n",
              "        <script src=\"https://cdn.plot.ly/plotly-2.8.3.min.js\"></script>                <div id=\"8299eec9-ab45-44fa-a88e-e7cf857720ea\" class=\"plotly-graph-div\" style=\"height:525px; width:100%;\"></div>            <script type=\"text/javascript\">                                    window.PLOTLYENV=window.PLOTLYENV || {};                                    if (document.getElementById(\"8299eec9-ab45-44fa-a88e-e7cf857720ea\")) {                    Plotly.newPlot(                        \"8299eec9-ab45-44fa-a88e-e7cf857720ea\",                        [{\"alignmentgroup\":\"True\",\"hovertemplate\":\"Name of the model=%{x}<br>Accuracy=%{y}<extra></extra>\",\"legendgroup\":\"\",\"marker\":{\"color\":\"#636efa\",\"pattern\":{\"shape\":\"\"}},\"name\":\"\",\"offsetgroup\":\"\",\"orientation\":\"v\",\"showlegend\":false,\"textposition\":\"auto\",\"x\":[\"Logistic Regression\",\"Random Forest\",\"Stochastic Gradient Descent\",\"Support Vector Machine\",\"Linear Support Vector Classification\",\"Naive Bayes\",\"Bernoulli Naive Bayes\",\"Multinomial Naive Bayes\",\"AdaBoost\",\"Light Gradient Boosting Machine\",\"Gradient Boost Classifier\"],\"xaxis\":\"x\",\"y\":[58.631,81.545,51.115,65.63,55.21,49.819,51.322,52.929,84.292,91.34299999999999,82.841],\"yaxis\":\"y\",\"type\":\"bar\"}],                        {\"template\":{\"data\":{\"bar\":[{\"error_x\":{\"color\":\"#2a3f5f\"},\"error_y\":{\"color\":\"#2a3f5f\"},\"marker\":{\"line\":{\"color\":\"#E5ECF6\",\"width\":0.5},\"pattern\":{\"fillmode\":\"overlay\",\"size\":10,\"solidity\":0.2}},\"type\":\"bar\"}],\"barpolar\":[{\"marker\":{\"line\":{\"color\":\"#E5ECF6\",\"width\":0.5},\"pattern\":{\"fillmode\":\"overlay\",\"size\":10,\"solidity\":0.2}},\"type\":\"barpolar\"}],\"carpet\":[{\"aaxis\":{\"endlinecolor\":\"#2a3f5f\",\"gridcolor\":\"white\",\"linecolor\":\"white\",\"minorgridcolor\":\"white\",\"startlinecolor\":\"#2a3f5f\"},\"baxis\":{\"endlinecolor\":\"#2a3f5f\",\"gridcolor\":\"white\",\"linecolor\":\"white\",\"minorgridcolor\":\"white\",\"startlinecolor\":\"#2a3f5f\"},\"type\":\"carpet\"}],\"choropleth\":[{\"colorbar\":{\"outlinewidth\":0,\"ticks\":\"\"},\"type\":\"choropleth\"}],\"contour\":[{\"colorbar\":{\"outlinewidth\":0,\"ticks\":\"\"},\"colorscale\":[[0.0,\"#0d0887\"],[0.1111111111111111,\"#46039f\"],[0.2222222222222222,\"#7201a8\"],[0.3333333333333333,\"#9c179e\"],[0.4444444444444444,\"#bd3786\"],[0.5555555555555556,\"#d8576b\"],[0.6666666666666666,\"#ed7953\"],[0.7777777777777778,\"#fb9f3a\"],[0.8888888888888888,\"#fdca26\"],[1.0,\"#f0f921\"]],\"type\":\"contour\"}],\"contourcarpet\":[{\"colorbar\":{\"outlinewidth\":0,\"ticks\":\"\"},\"type\":\"contourcarpet\"}],\"heatmap\":[{\"colorbar\":{\"outlinewidth\":0,\"ticks\":\"\"},\"colorscale\":[[0.0,\"#0d0887\"],[0.1111111111111111,\"#46039f\"],[0.2222222222222222,\"#7201a8\"],[0.3333333333333333,\"#9c179e\"],[0.4444444444444444,\"#bd3786\"],[0.5555555555555556,\"#d8576b\"],[0.6666666666666666,\"#ed7953\"],[0.7777777777777778,\"#fb9f3a\"],[0.8888888888888888,\"#fdca26\"],[1.0,\"#f0f921\"]],\"type\":\"heatmap\"}],\"heatmapgl\":[{\"colorbar\":{\"outlinewidth\":0,\"ticks\":\"\"},\"colorscale\":[[0.0,\"#0d0887\"],[0.1111111111111111,\"#46039f\"],[0.2222222222222222,\"#7201a8\"],[0.3333333333333333,\"#9c179e\"],[0.4444444444444444,\"#bd3786\"],[0.5555555555555556,\"#d8576b\"],[0.6666666666666666,\"#ed7953\"],[0.7777777777777778,\"#fb9f3a\"],[0.8888888888888888,\"#fdca26\"],[1.0,\"#f0f921\"]],\"type\":\"heatmapgl\"}],\"histogram\":[{\"marker\":{\"pattern\":{\"fillmode\":\"overlay\",\"size\":10,\"solidity\":0.2}},\"type\":\"histogram\"}],\"histogram2d\":[{\"colorbar\":{\"outlinewidth\":0,\"ticks\":\"\"},\"colorscale\":[[0.0,\"#0d0887\"],[0.1111111111111111,\"#46039f\"],[0.2222222222222222,\"#7201a8\"],[0.3333333333333333,\"#9c179e\"],[0.4444444444444444,\"#bd3786\"],[0.5555555555555556,\"#d8576b\"],[0.6666666666666666,\"#ed7953\"],[0.7777777777777778,\"#fb9f3a\"],[0.8888888888888888,\"#fdca26\"],[1.0,\"#f0f921\"]],\"type\":\"histogram2d\"}],\"histogram2dcontour\":[{\"colorbar\":{\"outlinewidth\":0,\"ticks\":\"\"},\"colorscale\":[[0.0,\"#0d0887\"],[0.1111111111111111,\"#46039f\"],[0.2222222222222222,\"#7201a8\"],[0.3333333333333333,\"#9c179e\"],[0.4444444444444444,\"#bd3786\"],[0.5555555555555556,\"#d8576b\"],[0.6666666666666666,\"#ed7953\"],[0.7777777777777778,\"#fb9f3a\"],[0.8888888888888888,\"#fdca26\"],[1.0,\"#f0f921\"]],\"type\":\"histogram2dcontour\"}],\"mesh3d\":[{\"colorbar\":{\"outlinewidth\":0,\"ticks\":\"\"},\"type\":\"mesh3d\"}],\"parcoords\":[{\"line\":{\"colorbar\":{\"outlinewidth\":0,\"ticks\":\"\"}},\"type\":\"parcoords\"}],\"pie\":[{\"automargin\":true,\"type\":\"pie\"}],\"scatter\":[{\"marker\":{\"colorbar\":{\"outlinewidth\":0,\"ticks\":\"\"}},\"type\":\"scatter\"}],\"scatter3d\":[{\"line\":{\"colorbar\":{\"outlinewidth\":0,\"ticks\":\"\"}},\"marker\":{\"colorbar\":{\"outlinewidth\":0,\"ticks\":\"\"}},\"type\":\"scatter3d\"}],\"scattercarpet\":[{\"marker\":{\"colorbar\":{\"outlinewidth\":0,\"ticks\":\"\"}},\"type\":\"scattercarpet\"}],\"scattergeo\":[{\"marker\":{\"colorbar\":{\"outlinewidth\":0,\"ticks\":\"\"}},\"type\":\"scattergeo\"}],\"scattergl\":[{\"marker\":{\"colorbar\":{\"outlinewidth\":0,\"ticks\":\"\"}},\"type\":\"scattergl\"}],\"scattermapbox\":[{\"marker\":{\"colorbar\":{\"outlinewidth\":0,\"ticks\":\"\"}},\"type\":\"scattermapbox\"}],\"scatterpolar\":[{\"marker\":{\"colorbar\":{\"outlinewidth\":0,\"ticks\":\"\"}},\"type\":\"scatterpolar\"}],\"scatterpolargl\":[{\"marker\":{\"colorbar\":{\"outlinewidth\":0,\"ticks\":\"\"}},\"type\":\"scatterpolargl\"}],\"scatterternary\":[{\"marker\":{\"colorbar\":{\"outlinewidth\":0,\"ticks\":\"\"}},\"type\":\"scatterternary\"}],\"surface\":[{\"colorbar\":{\"outlinewidth\":0,\"ticks\":\"\"},\"colorscale\":[[0.0,\"#0d0887\"],[0.1111111111111111,\"#46039f\"],[0.2222222222222222,\"#7201a8\"],[0.3333333333333333,\"#9c179e\"],[0.4444444444444444,\"#bd3786\"],[0.5555555555555556,\"#d8576b\"],[0.6666666666666666,\"#ed7953\"],[0.7777777777777778,\"#fb9f3a\"],[0.8888888888888888,\"#fdca26\"],[1.0,\"#f0f921\"]],\"type\":\"surface\"}],\"table\":[{\"cells\":{\"fill\":{\"color\":\"#EBF0F8\"},\"line\":{\"color\":\"white\"}},\"header\":{\"fill\":{\"color\":\"#C8D4E3\"},\"line\":{\"color\":\"white\"}},\"type\":\"table\"}]},\"layout\":{\"annotationdefaults\":{\"arrowcolor\":\"#2a3f5f\",\"arrowhead\":0,\"arrowwidth\":1},\"autotypenumbers\":\"strict\",\"coloraxis\":{\"colorbar\":{\"outlinewidth\":0,\"ticks\":\"\"}},\"colorscale\":{\"diverging\":[[0,\"#8e0152\"],[0.1,\"#c51b7d\"],[0.2,\"#de77ae\"],[0.3,\"#f1b6da\"],[0.4,\"#fde0ef\"],[0.5,\"#f7f7f7\"],[0.6,\"#e6f5d0\"],[0.7,\"#b8e186\"],[0.8,\"#7fbc41\"],[0.9,\"#4d9221\"],[1,\"#276419\"]],\"sequential\":[[0.0,\"#0d0887\"],[0.1111111111111111,\"#46039f\"],[0.2222222222222222,\"#7201a8\"],[0.3333333333333333,\"#9c179e\"],[0.4444444444444444,\"#bd3786\"],[0.5555555555555556,\"#d8576b\"],[0.6666666666666666,\"#ed7953\"],[0.7777777777777778,\"#fb9f3a\"],[0.8888888888888888,\"#fdca26\"],[1.0,\"#f0f921\"]],\"sequentialminus\":[[0.0,\"#0d0887\"],[0.1111111111111111,\"#46039f\"],[0.2222222222222222,\"#7201a8\"],[0.3333333333333333,\"#9c179e\"],[0.4444444444444444,\"#bd3786\"],[0.5555555555555556,\"#d8576b\"],[0.6666666666666666,\"#ed7953\"],[0.7777777777777778,\"#fb9f3a\"],[0.8888888888888888,\"#fdca26\"],[1.0,\"#f0f921\"]]},\"colorway\":[\"#636efa\",\"#EF553B\",\"#00cc96\",\"#ab63fa\",\"#FFA15A\",\"#19d3f3\",\"#FF6692\",\"#B6E880\",\"#FF97FF\",\"#FECB52\"],\"font\":{\"color\":\"#2a3f5f\"},\"geo\":{\"bgcolor\":\"white\",\"lakecolor\":\"white\",\"landcolor\":\"#E5ECF6\",\"showlakes\":true,\"showland\":true,\"subunitcolor\":\"white\"},\"hoverlabel\":{\"align\":\"left\"},\"hovermode\":\"closest\",\"mapbox\":{\"style\":\"light\"},\"paper_bgcolor\":\"white\",\"plot_bgcolor\":\"#E5ECF6\",\"polar\":{\"angularaxis\":{\"gridcolor\":\"white\",\"linecolor\":\"white\",\"ticks\":\"\"},\"bgcolor\":\"#E5ECF6\",\"radialaxis\":{\"gridcolor\":\"white\",\"linecolor\":\"white\",\"ticks\":\"\"}},\"scene\":{\"xaxis\":{\"backgroundcolor\":\"#E5ECF6\",\"gridcolor\":\"white\",\"gridwidth\":2,\"linecolor\":\"white\",\"showbackground\":true,\"ticks\":\"\",\"zerolinecolor\":\"white\"},\"yaxis\":{\"backgroundcolor\":\"#E5ECF6\",\"gridcolor\":\"white\",\"gridwidth\":2,\"linecolor\":\"white\",\"showbackground\":true,\"ticks\":\"\",\"zerolinecolor\":\"white\"},\"zaxis\":{\"backgroundcolor\":\"#E5ECF6\",\"gridcolor\":\"white\",\"gridwidth\":2,\"linecolor\":\"white\",\"showbackground\":true,\"ticks\":\"\",\"zerolinecolor\":\"white\"}},\"shapedefaults\":{\"line\":{\"color\":\"#2a3f5f\"}},\"ternary\":{\"aaxis\":{\"gridcolor\":\"white\",\"linecolor\":\"white\",\"ticks\":\"\"},\"baxis\":{\"gridcolor\":\"white\",\"linecolor\":\"white\",\"ticks\":\"\"},\"bgcolor\":\"#E5ECF6\",\"caxis\":{\"gridcolor\":\"white\",\"linecolor\":\"white\",\"ticks\":\"\"}},\"title\":{\"x\":0.05},\"xaxis\":{\"automargin\":true,\"gridcolor\":\"white\",\"linecolor\":\"white\",\"ticks\":\"\",\"title\":{\"standoff\":15},\"zerolinecolor\":\"white\",\"zerolinewidth\":2},\"yaxis\":{\"automargin\":true,\"gridcolor\":\"white\",\"linecolor\":\"white\",\"ticks\":\"\",\"title\":{\"standoff\":15},\"zerolinecolor\":\"white\",\"zerolinewidth\":2}}},\"xaxis\":{\"anchor\":\"y\",\"domain\":[0.0,1.0],\"title\":{\"text\":\"Name of the model\"}},\"yaxis\":{\"anchor\":\"x\",\"domain\":[0.0,1.0],\"title\":{\"text\":\"Accuracy\"}},\"legend\":{\"tracegroupgap\":0},\"margin\":{\"t\":60},\"barmode\":\"relative\"},                        {\"responsive\": true}                    ).then(function(){\n",
              "                            \n",
              "var gd = document.getElementById('8299eec9-ab45-44fa-a88e-e7cf857720ea');\n",
              "var x = new MutationObserver(function (mutations, observer) {{\n",
              "        var display = window.getComputedStyle(gd).display;\n",
              "        if (!display || display === 'none') {{\n",
              "            console.log([gd, 'removed!']);\n",
              "            Plotly.purge(gd);\n",
              "            observer.disconnect();\n",
              "        }}\n",
              "}});\n",
              "\n",
              "// Listen for the removal of the full notebook cells\n",
              "var notebookContainer = gd.closest('#notebook-container');\n",
              "if (notebookContainer) {{\n",
              "    x.observe(notebookContainer, {childList: true});\n",
              "}}\n",
              "\n",
              "// Listen for the clearing of the current output cell\n",
              "var outputEl = gd.closest('.output');\n",
              "if (outputEl) {{\n",
              "    x.observe(outputEl, {childList: true});\n",
              "}}\n",
              "\n",
              "                        })                };                            </script>        </div>\n",
              "</body>\n",
              "</html>"
            ]
          },
          "metadata": {}
        }
      ],
      "source": [
        "dict2 = {'Name of the model': name_arr, 'Accuracy': acc_arr}\n",
        "perf = pd.DataFrame(dict2)\n",
        "fig = px.bar(perf, x='Name of the model', y='Accuracy')\n",
        "fig.show()"
      ]
    },
    {
      "cell_type": "markdown",
      "metadata": {
        "id": "CKaC71AEAZCj"
      },
      "source": [
        "https://wortschatz.uni-leipzig.de/en/download/Hindi"
      ]
    },
    {
      "cell_type": "code",
      "execution_count": null,
      "metadata": {
        "id": "3jcb9ekg7jyU"
      },
      "outputs": [],
      "source": [
        "with open('/content/drive/MyDrive/sem8/nlp/mini p /hindi_words2.json', 'r') as fp:\n",
        "  data = json.load(fp)"
      ]
    },
    {
      "cell_type": "code",
      "execution_count": null,
      "metadata": {
        "id": "LYjRvpfA8Iqd"
      },
      "outputs": [],
      "source": [
        "count = max(data.values())\n",
        "for i in tokenized_text:\n",
        "  for j in i:\n",
        "    if j not in data.keys():\n",
        "      # print(j)\n",
        "      data[j] = count \n",
        "      count = count + 1"
      ]
    },
    {
      "cell_type": "code",
      "execution_count": null,
      "metadata": {
        "id": "59OTND6s74JW"
      },
      "outputs": [],
      "source": [
        "# text to sequences\n",
        "txt_to_sequences = []\n",
        "for each in tokenized_text:\n",
        "    lst = []\n",
        "    for each_one in each:\n",
        "        lst.append(data[each_one])\n",
        "    txt_to_sequences.append(lst)"
      ]
    },
    {
      "cell_type": "code",
      "execution_count": null,
      "metadata": {
        "id": "dNK9JD3N8Byc"
      },
      "outputs": [],
      "source": [
        "# padded the text to sequences to make them all the same length \n",
        "padded = []\n",
        "for each in txt_to_sequences:\n",
        "    difference = max_len - len(each)\n",
        "    each = [0]*difference + each\n",
        "    padded.append(each)\n",
        "\n",
        "# converting list to numpy array\n",
        "padded2 = np.asarray(padded, dtype=np.float64)"
      ]
    },
    {
      "cell_type": "code",
      "execution_count": null,
      "metadata": {
        "id": "pfd4QO4F8l4Z"
      },
      "outputs": [],
      "source": [
        "X = padded2\n",
        "y = sentiment"
      ]
    },
    {
      "cell_type": "code",
      "execution_count": null,
      "metadata": {
        "id": "XhGjLtBb8qAL"
      },
      "outputs": [],
      "source": [
        "X_train, X_test, y_train, y_test = train_test_split(X, y, test_size=0.3, random_state = 42)"
      ]
    },
    {
      "cell_type": "code",
      "execution_count": null,
      "metadata": {
        "colab": {
          "base_uri": "https://localhost:8080/"
        },
        "id": "NsgeKD-a8sPv",
        "outputId": "363894b7-bc1b-4514-bcff-b453766917d2"
      },
      "outputs": [
        {
          "output_type": "stream",
          "name": "stdout",
          "text": [
            "======================================\n",
            "Accuracy Logistic Regression: 52.566 \n",
            "\n",
            "              precision    recall  f1-score   support\n",
            "\n",
            "           0       0.55      0.39      0.45       979\n",
            "           1       0.51      0.67      0.58       950\n",
            "\n",
            "    accuracy                           0.53      1929\n",
            "   macro avg       0.53      0.53      0.52      1929\n",
            "weighted avg       0.53      0.53      0.52      1929\n",
            "\n",
            "======================================\n",
            "======================================\n",
            "Accuracy Random Forest: 73.14699999999999 \n",
            "\n",
            "              precision    recall  f1-score   support\n",
            "\n",
            "           0       0.72      0.77      0.74       979\n",
            "           1       0.74      0.69      0.72       950\n",
            "\n",
            "    accuracy                           0.73      1929\n",
            "   macro avg       0.73      0.73      0.73      1929\n",
            "weighted avg       0.73      0.73      0.73      1929\n",
            "\n",
            "======================================\n",
            "======================================\n",
            "Accuracy Stochastic Gradient Descent: 50.441 \n",
            "\n",
            "              precision    recall  f1-score   support\n",
            "\n",
            "           0       0.51      0.95      0.66       979\n",
            "           1       0.46      0.04      0.08       950\n",
            "\n",
            "    accuracy                           0.50      1929\n",
            "   macro avg       0.49      0.50      0.37      1929\n",
            "weighted avg       0.49      0.50      0.37      1929\n",
            "\n",
            "======================================\n",
            "======================================\n",
            "Accuracy Support Vector Machine: 55.57299999999999 \n",
            "\n",
            "              precision    recall  f1-score   support\n",
            "\n",
            "           0       0.59      0.42      0.49       979\n",
            "           1       0.54      0.69      0.60       950\n",
            "\n",
            "    accuracy                           0.56      1929\n",
            "   macro avg       0.56      0.56      0.55      1929\n",
            "weighted avg       0.56      0.56      0.55      1929\n",
            "\n",
            "======================================\n"
          ]
        },
        {
          "output_type": "stream",
          "name": "stderr",
          "text": [
            "/usr/local/lib/python3.7/dist-packages/sklearn/svm/_base.py:1208: ConvergenceWarning:\n",
            "\n",
            "Liblinear failed to converge, increase the number of iterations.\n",
            "\n"
          ]
        },
        {
          "output_type": "stream",
          "name": "stdout",
          "text": [
            "======================================\n",
            "Accuracy Linear Support Vector Classification: 50.492000000000004 \n",
            "\n",
            "              precision    recall  f1-score   support\n",
            "\n",
            "           0       0.51      0.94      0.66       979\n",
            "           1       0.48      0.06      0.10       950\n",
            "\n",
            "    accuracy                           0.50      1929\n",
            "   macro avg       0.49      0.50      0.38      1929\n",
            "weighted avg       0.49      0.50      0.39      1929\n",
            "\n",
            "======================================\n",
            "======================================\n",
            "Accuracy Naive Bayes: 49.611 \n",
            "\n",
            "              precision    recall  f1-score   support\n",
            "\n",
            "           0       0.68      0.01      0.03       979\n",
            "           1       0.49      0.99      0.66       950\n",
            "\n",
            "    accuracy                           0.50      1929\n",
            "   macro avg       0.59      0.50      0.34      1929\n",
            "weighted avg       0.59      0.50      0.34      1929\n",
            "\n",
            "======================================\n",
            "======================================\n",
            "Accuracy Bernoulli Naive Bayes: 51.322 \n",
            "\n",
            "              precision    recall  f1-score   support\n",
            "\n",
            "           0       0.53      0.41      0.46       979\n",
            "           1       0.50      0.62      0.55       950\n",
            "\n",
            "    accuracy                           0.51      1929\n",
            "   macro avg       0.52      0.51      0.51      1929\n",
            "weighted avg       0.52      0.51      0.51      1929\n",
            "\n",
            "======================================\n",
            "======================================\n",
            "Accuracy Multinomial Naive Bayes: 52.151 \n",
            "\n",
            "              precision    recall  f1-score   support\n",
            "\n",
            "           0       0.55      0.30      0.39       979\n",
            "           1       0.51      0.75      0.61       950\n",
            "\n",
            "    accuracy                           0.52      1929\n",
            "   macro avg       0.53      0.52      0.50      1929\n",
            "weighted avg       0.53      0.52      0.50      1929\n",
            "\n",
            "======================================\n",
            "======================================\n",
            "Accuracy AdaBoost: 65.371 \n",
            "\n",
            "              precision    recall  f1-score   support\n",
            "\n",
            "           0       0.65      0.70      0.67       979\n",
            "           1       0.66      0.61      0.63       950\n",
            "\n",
            "    accuracy                           0.65      1929\n",
            "   macro avg       0.65      0.65      0.65      1929\n",
            "weighted avg       0.65      0.65      0.65      1929\n",
            "\n",
            "======================================\n",
            "======================================\n",
            "Accuracy Light Gradient Boosting Machine: 73.043 \n",
            "\n",
            "              precision    recall  f1-score   support\n",
            "\n",
            "           0       0.72      0.76      0.74       979\n",
            "           1       0.74      0.70      0.72       950\n",
            "\n",
            "    accuracy                           0.73      1929\n",
            "   macro avg       0.73      0.73      0.73      1929\n",
            "weighted avg       0.73      0.73      0.73      1929\n",
            "\n",
            "======================================\n",
            "======================================\n",
            "Accuracy Gradient Boost Classifier: 64.126 \n",
            "\n",
            "              precision    recall  f1-score   support\n",
            "\n",
            "           0       0.64      0.67      0.66       979\n",
            "           1       0.64      0.61      0.63       950\n",
            "\n",
            "    accuracy                           0.64      1929\n",
            "   macro avg       0.64      0.64      0.64      1929\n",
            "weighted avg       0.64      0.64      0.64      1929\n",
            "\n",
            "======================================\n"
          ]
        }
      ],
      "source": [
        "# this function helps in plotting the accuracy of the models\n",
        "name_arr = []\n",
        "acc_arr = []\n",
        "def lst_append(name, acc):\n",
        "  name_arr.append(name)\n",
        "  acc_arr.append(acc)\n",
        "  \n",
        "def model_perf(model, name):\n",
        "  model.fit(X_train, y_train)\n",
        "  preds = model.predict(X_test)\n",
        "  acc = round(accuracy_score(y_test, preds), 5)*100\n",
        "  acc_lst = lst_append(name, acc)\n",
        "  print('======================================')\n",
        "  print('Accuracy ' + f'{name}' + ':', acc,'\\n')\n",
        "  print(classification_report(y_test, preds))\n",
        "  print('======================================')\n",
        "\n",
        "Log_Reg = LogisticRegression(random_state=0, max_iter=10000)\n",
        "model_perf(LogReg, 'Logistic Regression')\n",
        "\n",
        "RFC = RandomForestClassifier(criterion = 'gini', oob_score=True)\n",
        "model_perf(RFC, 'Random Forest')\n",
        "\n",
        "SGDC = SGDClassifier(max_iter=1000, tol=1e-3)\n",
        "model_perf(SGDC, 'Stochastic Gradient Descent')\n",
        "\n",
        "svm = SVC()\n",
        "model_perf(svm, 'Support Vector Machine')\n",
        "\n",
        "LSVC = LinearSVC(random_state=0, tol=1e-5)\n",
        "model_perf(LSVC, 'Linear Support Vector Classification')\n",
        "\n",
        "GNB = GaussianNB()\n",
        "model_perf(GNB, 'Naive Bayes')\n",
        "\n",
        "BNB = BernoulliNB()\n",
        "model_perf(BNB, 'Bernoulli Naive Bayes')\n",
        "\n",
        "MNB = MultinomialNB()\n",
        "model_perf(MNB, 'Multinomial Naive Bayes')\n",
        "\n",
        "AdaB = AdaBoostClassifier(n_estimators=100, random_state=0)\n",
        "model_perf(AdaB, 'AdaBoost')\n",
        "\n",
        "LGBM = LGBMClassifier(random_state=5)\n",
        "model_perf(LGBM, 'Light Gradient Boosting Machine')\n",
        "\n",
        "GBC = GradientBoostingClassifier(n_estimators=100, learning_rate=1.0, max_depth=1, random_state=0)\n",
        "model_perf(GBC, 'Gradient Boost Classifier')"
      ]
    },
    {
      "cell_type": "code",
      "execution_count": null,
      "metadata": {
        "colab": {
          "base_uri": "https://localhost:8080/",
          "height": 542
        },
        "id": "o5lVchfU8uQE",
        "outputId": "b62cf4ce-0b6a-49ad-be5a-918a5cefe4ec"
      },
      "outputs": [
        {
          "output_type": "display_data",
          "data": {
            "text/html": [
              "<html>\n",
              "<head><meta charset=\"utf-8\" /></head>\n",
              "<body>\n",
              "    <div>            <script src=\"https://cdnjs.cloudflare.com/ajax/libs/mathjax/2.7.5/MathJax.js?config=TeX-AMS-MML_SVG\"></script><script type=\"text/javascript\">if (window.MathJax) {MathJax.Hub.Config({SVG: {font: \"STIX-Web\"}});}</script>                <script type=\"text/javascript\">window.PlotlyConfig = {MathJaxConfig: 'local'};</script>\n",
              "        <script src=\"https://cdn.plot.ly/plotly-2.8.3.min.js\"></script>                <div id=\"7f00f059-732a-45ce-a320-336ad55467de\" class=\"plotly-graph-div\" style=\"height:525px; width:100%;\"></div>            <script type=\"text/javascript\">                                    window.PLOTLYENV=window.PLOTLYENV || {};                                    if (document.getElementById(\"7f00f059-732a-45ce-a320-336ad55467de\")) {                    Plotly.newPlot(                        \"7f00f059-732a-45ce-a320-336ad55467de\",                        [{\"alignmentgroup\":\"True\",\"hovertemplate\":\"Name of the model=%{x}<br>Accuracy=%{y}<extra></extra>\",\"legendgroup\":\"\",\"marker\":{\"color\":\"#636efa\",\"pattern\":{\"shape\":\"\"}},\"name\":\"\",\"offsetgroup\":\"\",\"orientation\":\"v\",\"showlegend\":false,\"textposition\":\"auto\",\"x\":[\"Logistic Regression\",\"Random Forest\",\"Stochastic Gradient Descent\",\"Support Vector Machine\",\"Linear Support Vector Classification\",\"Naive Bayes\",\"Bernoulli Naive Bayes\",\"Multinomial Naive Bayes\",\"AdaBoost\",\"Light Gradient Boosting Machine\",\"Gradient Boost Classifier\"],\"xaxis\":\"x\",\"y\":[52.566,73.14699999999999,50.441,55.57299999999999,50.492000000000004,49.611,51.322,52.151,65.371,73.043,64.126],\"yaxis\":\"y\",\"type\":\"bar\"}],                        {\"template\":{\"data\":{\"bar\":[{\"error_x\":{\"color\":\"#2a3f5f\"},\"error_y\":{\"color\":\"#2a3f5f\"},\"marker\":{\"line\":{\"color\":\"#E5ECF6\",\"width\":0.5},\"pattern\":{\"fillmode\":\"overlay\",\"size\":10,\"solidity\":0.2}},\"type\":\"bar\"}],\"barpolar\":[{\"marker\":{\"line\":{\"color\":\"#E5ECF6\",\"width\":0.5},\"pattern\":{\"fillmode\":\"overlay\",\"size\":10,\"solidity\":0.2}},\"type\":\"barpolar\"}],\"carpet\":[{\"aaxis\":{\"endlinecolor\":\"#2a3f5f\",\"gridcolor\":\"white\",\"linecolor\":\"white\",\"minorgridcolor\":\"white\",\"startlinecolor\":\"#2a3f5f\"},\"baxis\":{\"endlinecolor\":\"#2a3f5f\",\"gridcolor\":\"white\",\"linecolor\":\"white\",\"minorgridcolor\":\"white\",\"startlinecolor\":\"#2a3f5f\"},\"type\":\"carpet\"}],\"choropleth\":[{\"colorbar\":{\"outlinewidth\":0,\"ticks\":\"\"},\"type\":\"choropleth\"}],\"contour\":[{\"colorbar\":{\"outlinewidth\":0,\"ticks\":\"\"},\"colorscale\":[[0.0,\"#0d0887\"],[0.1111111111111111,\"#46039f\"],[0.2222222222222222,\"#7201a8\"],[0.3333333333333333,\"#9c179e\"],[0.4444444444444444,\"#bd3786\"],[0.5555555555555556,\"#d8576b\"],[0.6666666666666666,\"#ed7953\"],[0.7777777777777778,\"#fb9f3a\"],[0.8888888888888888,\"#fdca26\"],[1.0,\"#f0f921\"]],\"type\":\"contour\"}],\"contourcarpet\":[{\"colorbar\":{\"outlinewidth\":0,\"ticks\":\"\"},\"type\":\"contourcarpet\"}],\"heatmap\":[{\"colorbar\":{\"outlinewidth\":0,\"ticks\":\"\"},\"colorscale\":[[0.0,\"#0d0887\"],[0.1111111111111111,\"#46039f\"],[0.2222222222222222,\"#7201a8\"],[0.3333333333333333,\"#9c179e\"],[0.4444444444444444,\"#bd3786\"],[0.5555555555555556,\"#d8576b\"],[0.6666666666666666,\"#ed7953\"],[0.7777777777777778,\"#fb9f3a\"],[0.8888888888888888,\"#fdca26\"],[1.0,\"#f0f921\"]],\"type\":\"heatmap\"}],\"heatmapgl\":[{\"colorbar\":{\"outlinewidth\":0,\"ticks\":\"\"},\"colorscale\":[[0.0,\"#0d0887\"],[0.1111111111111111,\"#46039f\"],[0.2222222222222222,\"#7201a8\"],[0.3333333333333333,\"#9c179e\"],[0.4444444444444444,\"#bd3786\"],[0.5555555555555556,\"#d8576b\"],[0.6666666666666666,\"#ed7953\"],[0.7777777777777778,\"#fb9f3a\"],[0.8888888888888888,\"#fdca26\"],[1.0,\"#f0f921\"]],\"type\":\"heatmapgl\"}],\"histogram\":[{\"marker\":{\"pattern\":{\"fillmode\":\"overlay\",\"size\":10,\"solidity\":0.2}},\"type\":\"histogram\"}],\"histogram2d\":[{\"colorbar\":{\"outlinewidth\":0,\"ticks\":\"\"},\"colorscale\":[[0.0,\"#0d0887\"],[0.1111111111111111,\"#46039f\"],[0.2222222222222222,\"#7201a8\"],[0.3333333333333333,\"#9c179e\"],[0.4444444444444444,\"#bd3786\"],[0.5555555555555556,\"#d8576b\"],[0.6666666666666666,\"#ed7953\"],[0.7777777777777778,\"#fb9f3a\"],[0.8888888888888888,\"#fdca26\"],[1.0,\"#f0f921\"]],\"type\":\"histogram2d\"}],\"histogram2dcontour\":[{\"colorbar\":{\"outlinewidth\":0,\"ticks\":\"\"},\"colorscale\":[[0.0,\"#0d0887\"],[0.1111111111111111,\"#46039f\"],[0.2222222222222222,\"#7201a8\"],[0.3333333333333333,\"#9c179e\"],[0.4444444444444444,\"#bd3786\"],[0.5555555555555556,\"#d8576b\"],[0.6666666666666666,\"#ed7953\"],[0.7777777777777778,\"#fb9f3a\"],[0.8888888888888888,\"#fdca26\"],[1.0,\"#f0f921\"]],\"type\":\"histogram2dcontour\"}],\"mesh3d\":[{\"colorbar\":{\"outlinewidth\":0,\"ticks\":\"\"},\"type\":\"mesh3d\"}],\"parcoords\":[{\"line\":{\"colorbar\":{\"outlinewidth\":0,\"ticks\":\"\"}},\"type\":\"parcoords\"}],\"pie\":[{\"automargin\":true,\"type\":\"pie\"}],\"scatter\":[{\"marker\":{\"colorbar\":{\"outlinewidth\":0,\"ticks\":\"\"}},\"type\":\"scatter\"}],\"scatter3d\":[{\"line\":{\"colorbar\":{\"outlinewidth\":0,\"ticks\":\"\"}},\"marker\":{\"colorbar\":{\"outlinewidth\":0,\"ticks\":\"\"}},\"type\":\"scatter3d\"}],\"scattercarpet\":[{\"marker\":{\"colorbar\":{\"outlinewidth\":0,\"ticks\":\"\"}},\"type\":\"scattercarpet\"}],\"scattergeo\":[{\"marker\":{\"colorbar\":{\"outlinewidth\":0,\"ticks\":\"\"}},\"type\":\"scattergeo\"}],\"scattergl\":[{\"marker\":{\"colorbar\":{\"outlinewidth\":0,\"ticks\":\"\"}},\"type\":\"scattergl\"}],\"scattermapbox\":[{\"marker\":{\"colorbar\":{\"outlinewidth\":0,\"ticks\":\"\"}},\"type\":\"scattermapbox\"}],\"scatterpolar\":[{\"marker\":{\"colorbar\":{\"outlinewidth\":0,\"ticks\":\"\"}},\"type\":\"scatterpolar\"}],\"scatterpolargl\":[{\"marker\":{\"colorbar\":{\"outlinewidth\":0,\"ticks\":\"\"}},\"type\":\"scatterpolargl\"}],\"scatterternary\":[{\"marker\":{\"colorbar\":{\"outlinewidth\":0,\"ticks\":\"\"}},\"type\":\"scatterternary\"}],\"surface\":[{\"colorbar\":{\"outlinewidth\":0,\"ticks\":\"\"},\"colorscale\":[[0.0,\"#0d0887\"],[0.1111111111111111,\"#46039f\"],[0.2222222222222222,\"#7201a8\"],[0.3333333333333333,\"#9c179e\"],[0.4444444444444444,\"#bd3786\"],[0.5555555555555556,\"#d8576b\"],[0.6666666666666666,\"#ed7953\"],[0.7777777777777778,\"#fb9f3a\"],[0.8888888888888888,\"#fdca26\"],[1.0,\"#f0f921\"]],\"type\":\"surface\"}],\"table\":[{\"cells\":{\"fill\":{\"color\":\"#EBF0F8\"},\"line\":{\"color\":\"white\"}},\"header\":{\"fill\":{\"color\":\"#C8D4E3\"},\"line\":{\"color\":\"white\"}},\"type\":\"table\"}]},\"layout\":{\"annotationdefaults\":{\"arrowcolor\":\"#2a3f5f\",\"arrowhead\":0,\"arrowwidth\":1},\"autotypenumbers\":\"strict\",\"coloraxis\":{\"colorbar\":{\"outlinewidth\":0,\"ticks\":\"\"}},\"colorscale\":{\"diverging\":[[0,\"#8e0152\"],[0.1,\"#c51b7d\"],[0.2,\"#de77ae\"],[0.3,\"#f1b6da\"],[0.4,\"#fde0ef\"],[0.5,\"#f7f7f7\"],[0.6,\"#e6f5d0\"],[0.7,\"#b8e186\"],[0.8,\"#7fbc41\"],[0.9,\"#4d9221\"],[1,\"#276419\"]],\"sequential\":[[0.0,\"#0d0887\"],[0.1111111111111111,\"#46039f\"],[0.2222222222222222,\"#7201a8\"],[0.3333333333333333,\"#9c179e\"],[0.4444444444444444,\"#bd3786\"],[0.5555555555555556,\"#d8576b\"],[0.6666666666666666,\"#ed7953\"],[0.7777777777777778,\"#fb9f3a\"],[0.8888888888888888,\"#fdca26\"],[1.0,\"#f0f921\"]],\"sequentialminus\":[[0.0,\"#0d0887\"],[0.1111111111111111,\"#46039f\"],[0.2222222222222222,\"#7201a8\"],[0.3333333333333333,\"#9c179e\"],[0.4444444444444444,\"#bd3786\"],[0.5555555555555556,\"#d8576b\"],[0.6666666666666666,\"#ed7953\"],[0.7777777777777778,\"#fb9f3a\"],[0.8888888888888888,\"#fdca26\"],[1.0,\"#f0f921\"]]},\"colorway\":[\"#636efa\",\"#EF553B\",\"#00cc96\",\"#ab63fa\",\"#FFA15A\",\"#19d3f3\",\"#FF6692\",\"#B6E880\",\"#FF97FF\",\"#FECB52\"],\"font\":{\"color\":\"#2a3f5f\"},\"geo\":{\"bgcolor\":\"white\",\"lakecolor\":\"white\",\"landcolor\":\"#E5ECF6\",\"showlakes\":true,\"showland\":true,\"subunitcolor\":\"white\"},\"hoverlabel\":{\"align\":\"left\"},\"hovermode\":\"closest\",\"mapbox\":{\"style\":\"light\"},\"paper_bgcolor\":\"white\",\"plot_bgcolor\":\"#E5ECF6\",\"polar\":{\"angularaxis\":{\"gridcolor\":\"white\",\"linecolor\":\"white\",\"ticks\":\"\"},\"bgcolor\":\"#E5ECF6\",\"radialaxis\":{\"gridcolor\":\"white\",\"linecolor\":\"white\",\"ticks\":\"\"}},\"scene\":{\"xaxis\":{\"backgroundcolor\":\"#E5ECF6\",\"gridcolor\":\"white\",\"gridwidth\":2,\"linecolor\":\"white\",\"showbackground\":true,\"ticks\":\"\",\"zerolinecolor\":\"white\"},\"yaxis\":{\"backgroundcolor\":\"#E5ECF6\",\"gridcolor\":\"white\",\"gridwidth\":2,\"linecolor\":\"white\",\"showbackground\":true,\"ticks\":\"\",\"zerolinecolor\":\"white\"},\"zaxis\":{\"backgroundcolor\":\"#E5ECF6\",\"gridcolor\":\"white\",\"gridwidth\":2,\"linecolor\":\"white\",\"showbackground\":true,\"ticks\":\"\",\"zerolinecolor\":\"white\"}},\"shapedefaults\":{\"line\":{\"color\":\"#2a3f5f\"}},\"ternary\":{\"aaxis\":{\"gridcolor\":\"white\",\"linecolor\":\"white\",\"ticks\":\"\"},\"baxis\":{\"gridcolor\":\"white\",\"linecolor\":\"white\",\"ticks\":\"\"},\"bgcolor\":\"#E5ECF6\",\"caxis\":{\"gridcolor\":\"white\",\"linecolor\":\"white\",\"ticks\":\"\"}},\"title\":{\"x\":0.05},\"xaxis\":{\"automargin\":true,\"gridcolor\":\"white\",\"linecolor\":\"white\",\"ticks\":\"\",\"title\":{\"standoff\":15},\"zerolinecolor\":\"white\",\"zerolinewidth\":2},\"yaxis\":{\"automargin\":true,\"gridcolor\":\"white\",\"linecolor\":\"white\",\"ticks\":\"\",\"title\":{\"standoff\":15},\"zerolinecolor\":\"white\",\"zerolinewidth\":2}}},\"xaxis\":{\"anchor\":\"y\",\"domain\":[0.0,1.0],\"title\":{\"text\":\"Name of the model\"}},\"yaxis\":{\"anchor\":\"x\",\"domain\":[0.0,1.0],\"title\":{\"text\":\"Accuracy\"}},\"legend\":{\"tracegroupgap\":0},\"margin\":{\"t\":60},\"barmode\":\"relative\"},                        {\"responsive\": true}                    ).then(function(){\n",
              "                            \n",
              "var gd = document.getElementById('7f00f059-732a-45ce-a320-336ad55467de');\n",
              "var x = new MutationObserver(function (mutations, observer) {{\n",
              "        var display = window.getComputedStyle(gd).display;\n",
              "        if (!display || display === 'none') {{\n",
              "            console.log([gd, 'removed!']);\n",
              "            Plotly.purge(gd);\n",
              "            observer.disconnect();\n",
              "        }}\n",
              "}});\n",
              "\n",
              "// Listen for the removal of the full notebook cells\n",
              "var notebookContainer = gd.closest('#notebook-container');\n",
              "if (notebookContainer) {{\n",
              "    x.observe(notebookContainer, {childList: true});\n",
              "}}\n",
              "\n",
              "// Listen for the clearing of the current output cell\n",
              "var outputEl = gd.closest('.output');\n",
              "if (outputEl) {{\n",
              "    x.observe(outputEl, {childList: true});\n",
              "}}\n",
              "\n",
              "                        })                };                            </script>        </div>\n",
              "</body>\n",
              "</html>"
            ]
          },
          "metadata": {}
        }
      ],
      "source": [
        "dict2 = {'Name of the model': name_arr, 'Accuracy': acc_arr}\n",
        "perf = pd.DataFrame(dict2)\n",
        "fig = px.bar(perf, x='Name of the model', y='Accuracy')\n",
        "fig.show()"
      ]
    },
    {
      "cell_type": "markdown",
      "metadata": {
        "id": "W5DlFVe0tELz"
      },
      "source": [
        "## Taking input from user"
      ]
    },
    {
      "cell_type": "code",
      "execution_count": null,
      "metadata": {
        "id": "EyLTGmAzQJgJ"
      },
      "outputs": [],
      "source": [
        "def preprocess(text):\n",
        "  # 1 -> positive\n",
        "  # 0 -> negative\n",
        "  print(text)\n",
        "  max_len = 48\n",
        "  txt_seq = []\n",
        "  lst = []\n",
        "  tokenized_input = text.split(' ')\n",
        "  for each in tokenized_input:\n",
        "    txt_seq.append(data[each])\n",
        "  if len(txt_seq)<max_len:\n",
        "    difference = max_len - len(txt_seq)\n",
        "    # print(difference)\n",
        "    zeroes = [0]*difference\n",
        "    lst = zeroes + txt_seq\n",
        "  print(lst)\n",
        "  lst1 = np.asarray(lst, dtype=np.float64)\n",
        "  new_lst1 = lst1.reshape(1, -1)\n",
        "  a = RFC.predict(new_lst1)\n",
        "  b = LogReg.predict(new_lst1)\n",
        "  c = LGBM.predict(new_lst1)\n",
        "  print(a, b, c)"
      ]
    },
    {
      "cell_type": "code",
      "execution_count": null,
      "metadata": {
        "colab": {
          "base_uri": "https://localhost:8080/"
        },
        "id": "1eNuL-h8WTqY",
        "outputId": "93ee6c28-aa99-4bcb-b400-8cc969d91b3a"
      },
      "outputs": [
        {
          "output_type": "stream",
          "name": "stdout",
          "text": [
            "लोग वतन तक खा जाते हैं इसका इसे यकीन नहींमान जाएगा तू ले जाकर दिल्ली इसे दिखा ला दोस्त\n",
            "[0, 0, 0, 0, 0, 0, 0, 0, 0, 0, 0, 0, 0, 0, 0, 0, 0, 0, 0, 0, 0, 0, 0, 0, 0, 0, 0, 0, 0, 827084, 662847, 348077, 255655, 203843, 940029, 464374, 587313, 741558, 57945, 860293, 509542, 820683, 286930, 596854, 587313, 48614, 600634, 275464]\n",
            "[0] [1] [0]\n",
            "\n",
            "\n",
            "0\n"
          ]
        }
      ],
      "source": [
        "preprocess(texts[0])\n",
        "print('\\n')\n",
        "print(sentiment[0])"
      ]
    },
    {
      "cell_type": "code",
      "execution_count": null,
      "metadata": {
        "colab": {
          "base_uri": "https://localhost:8080/"
        },
        "id": "VYoFYYsPWwkg",
        "outputId": "bea75c17-c8ad-4840-afb0-f84c714edb01"
      },
      "outputs": [
        {
          "output_type": "stream",
          "name": "stdout",
          "text": [
            "क्रूज ड्रग्स केस में गवाह प्रभाकर की मौत वकील ने बताया हार्ट अटैक से गई जान\n",
            "[0, 0, 0, 0, 0, 0, 0, 0, 0, 0, 0, 0, 0, 0, 0, 0, 0, 0, 0, 0, 0, 0, 0, 0, 0, 0, 0, 0, 0, 0, 0, 0, 565454, 510347, 589442, 535586, 215535, 636119, 122044, 538035, 432068, 442596, 443639, 683702, 663013, 76216, 148173, 943776]\n",
            "[1] [1] [1]\n"
          ]
        }
      ],
      "source": [
        "t1 = 'क्रूज ड्रग्स केस में गवाह प्रभाकर की मौत वकील ने बताया हार्ट अटैक से गई जान'\n",
        "# Witness Prabhakar's death in Rouge Drugs case Lawyer told that he died due to heart attack\n",
        "preprocess(t1)"
      ]
    },
    {
      "cell_type": "code",
      "execution_count": null,
      "metadata": {
        "colab": {
          "base_uri": "https://localhost:8080/"
        },
        "id": "cUebAn81lxuf",
        "outputId": "65dc0f84-23e1-4c04-c3d9-b06e162cb39c"
      },
      "outputs": [
        {
          "output_type": "stream",
          "name": "stdout",
          "text": [
            "सहरी में पिएं ये स्वादिष्ट हेल्दी शेक रोज़े में नहीं लगेगी प्यास जानें विधि\n",
            "[0, 0, 0, 0, 0, 0, 0, 0, 0, 0, 0, 0, 0, 0, 0, 0, 0, 0, 0, 0, 0, 0, 0, 0, 0, 0, 0, 0, 0, 0, 0, 0, 0, 0, 883019, 535586, 417565, 57194, 963819, 383777, 732222, 597733, 535586, 272194, 570886, 211923, 651410, 574345]\n",
            "[1] [1] [0]\n"
          ]
        }
      ],
      "source": [
        "t2 = 'सहरी में पिएं ये स्वादिष्ट हेल्दी शेक रोज़े में नहीं लगेगी प्यास जानें विधि'\n",
        "# Drink this delicious healthy shake in Sehri, you will not feel thirsty in fasting, know the method\n",
        "preprocess(t2)"
      ]
    },
    {
      "cell_type": "markdown",
      "metadata": {
        "id": "IXGbA7xUu7Eq"
      },
      "source": [
        "## Downloading the trained models"
      ]
    },
    {
      "cell_type": "code",
      "execution_count": null,
      "metadata": {
        "colab": {
          "base_uri": "https://localhost:8080/",
          "height": 36
        },
        "id": "aOw2ciFiu970",
        "outputId": "92166b2b-8b3a-471b-a99b-c0940462d5a9"
      },
      "outputs": [
        {
          "output_type": "execute_result",
          "data": {
            "text/plain": [
              "\"import pickle\\n\\nwith open('model.pkl', 'wb') as files:\\n    pickle.dump(RFC, files)\""
            ],
            "application/vnd.google.colaboratory.intrinsic+json": {
              "type": "string"
            }
          },
          "metadata": {},
          "execution_count": 121
        }
      ],
      "source": [
        "'''import pickle\n",
        "\n",
        "with open('model.pkl', 'wb') as files:\n",
        "    pickle.dump(RFC, files)'''"
      ]
    },
    {
      "cell_type": "markdown",
      "metadata": {
        "id": "bEgFB8hwgIHm"
      },
      "source": [
        "## Understanding the model"
      ]
    },
    {
      "cell_type": "code",
      "execution_count": null,
      "metadata": {
        "colab": {
          "base_uri": "https://localhost:8080/"
        },
        "id": "xbYrD64IgZ8M",
        "outputId": "4d4632e2-aa4f-43d6-ff66-04b54fe60f98"
      },
      "outputs": [
        {
          "output_type": "execute_result",
          "data": {
            "text/plain": [
              "DecisionTreeClassifier()"
            ]
          },
          "metadata": {},
          "execution_count": 122
        }
      ],
      "source": [
        "# The child estimator template used to create the collection of fitted sub-estimators.\n",
        "RFC.base_estimator"
      ]
    },
    {
      "cell_type": "code",
      "execution_count": null,
      "metadata": {
        "colab": {
          "base_uri": "https://localhost:8080/"
        },
        "id": "3kPhLbtigKS7",
        "outputId": "84ab0b6a-ac38-47f0-931b-d7577fa4e4ae"
      },
      "outputs": [
        {
          "output_type": "execute_result",
          "data": {
            "text/plain": [
              "[DecisionTreeClassifier(max_features='auto', random_state=1126597297),\n",
              " DecisionTreeClassifier(max_features='auto', random_state=2050624145),\n",
              " DecisionTreeClassifier(max_features='auto', random_state=1713249922),\n",
              " DecisionTreeClassifier(max_features='auto', random_state=950323429),\n",
              " DecisionTreeClassifier(max_features='auto', random_state=338733054),\n",
              " DecisionTreeClassifier(max_features='auto', random_state=527331433),\n",
              " DecisionTreeClassifier(max_features='auto', random_state=454680678),\n",
              " DecisionTreeClassifier(max_features='auto', random_state=1200893022),\n",
              " DecisionTreeClassifier(max_features='auto', random_state=860236142),\n",
              " DecisionTreeClassifier(max_features='auto', random_state=593806049),\n",
              " DecisionTreeClassifier(max_features='auto', random_state=652335096),\n",
              " DecisionTreeClassifier(max_features='auto', random_state=377415675),\n",
              " DecisionTreeClassifier(max_features='auto', random_state=187997622),\n",
              " DecisionTreeClassifier(max_features='auto', random_state=118574283),\n",
              " DecisionTreeClassifier(max_features='auto', random_state=863529865),\n",
              " DecisionTreeClassifier(max_features='auto', random_state=892198157),\n",
              " DecisionTreeClassifier(max_features='auto', random_state=2105655854),\n",
              " DecisionTreeClassifier(max_features='auto', random_state=1535702590),\n",
              " DecisionTreeClassifier(max_features='auto', random_state=895009626),\n",
              " DecisionTreeClassifier(max_features='auto', random_state=1661982564),\n",
              " DecisionTreeClassifier(max_features='auto', random_state=641059280),\n",
              " DecisionTreeClassifier(max_features='auto', random_state=82744869),\n",
              " DecisionTreeClassifier(max_features='auto', random_state=1330678829),\n",
              " DecisionTreeClassifier(max_features='auto', random_state=707508086),\n",
              " DecisionTreeClassifier(max_features='auto', random_state=1622166128),\n",
              " DecisionTreeClassifier(max_features='auto', random_state=29599231),\n",
              " DecisionTreeClassifier(max_features='auto', random_state=482222925),\n",
              " DecisionTreeClassifier(max_features='auto', random_state=1429770413),\n",
              " DecisionTreeClassifier(max_features='auto', random_state=682519705),\n",
              " DecisionTreeClassifier(max_features='auto', random_state=1302170606),\n",
              " DecisionTreeClassifier(max_features='auto', random_state=1606745724),\n",
              " DecisionTreeClassifier(max_features='auto', random_state=731211538),\n",
              " DecisionTreeClassifier(max_features='auto', random_state=1259912198),\n",
              " DecisionTreeClassifier(max_features='auto', random_state=593159327),\n",
              " DecisionTreeClassifier(max_features='auto', random_state=1687391193),\n",
              " DecisionTreeClassifier(max_features='auto', random_state=101639851),\n",
              " DecisionTreeClassifier(max_features='auto', random_state=1738542816),\n",
              " DecisionTreeClassifier(max_features='auto', random_state=1398698464),\n",
              " DecisionTreeClassifier(max_features='auto', random_state=1287337821),\n",
              " DecisionTreeClassifier(max_features='auto', random_state=339432980),\n",
              " DecisionTreeClassifier(max_features='auto', random_state=907645548),\n",
              " DecisionTreeClassifier(max_features='auto', random_state=2023213234),\n",
              " DecisionTreeClassifier(max_features='auto', random_state=572965941),\n",
              " DecisionTreeClassifier(max_features='auto', random_state=593810433),\n",
              " DecisionTreeClassifier(max_features='auto', random_state=1138085068),\n",
              " DecisionTreeClassifier(max_features='auto', random_state=39738568),\n",
              " DecisionTreeClassifier(max_features='auto', random_state=863538218),\n",
              " DecisionTreeClassifier(max_features='auto', random_state=217167952),\n",
              " DecisionTreeClassifier(max_features='auto', random_state=1438416186),\n",
              " DecisionTreeClassifier(max_features='auto', random_state=993841713),\n",
              " DecisionTreeClassifier(max_features='auto', random_state=887778928),\n",
              " DecisionTreeClassifier(max_features='auto', random_state=1670787341),\n",
              " DecisionTreeClassifier(max_features='auto', random_state=1932438689),\n",
              " DecisionTreeClassifier(max_features='auto', random_state=801090592),\n",
              " DecisionTreeClassifier(max_features='auto', random_state=747271444),\n",
              " DecisionTreeClassifier(max_features='auto', random_state=1822703130),\n",
              " DecisionTreeClassifier(max_features='auto', random_state=1001833891),\n",
              " DecisionTreeClassifier(max_features='auto', random_state=558934069),\n",
              " DecisionTreeClassifier(max_features='auto', random_state=459024769),\n",
              " DecisionTreeClassifier(max_features='auto', random_state=201069598),\n",
              " DecisionTreeClassifier(max_features='auto', random_state=206030726),\n",
              " DecisionTreeClassifier(max_features='auto', random_state=1976089927),\n",
              " DecisionTreeClassifier(max_features='auto', random_state=1620465041),\n",
              " DecisionTreeClassifier(max_features='auto', random_state=1344248558),\n",
              " DecisionTreeClassifier(max_features='auto', random_state=1888741573),\n",
              " DecisionTreeClassifier(max_features='auto', random_state=524765477),\n",
              " DecisionTreeClassifier(max_features='auto', random_state=1305822645),\n",
              " DecisionTreeClassifier(max_features='auto', random_state=174521352),\n",
              " DecisionTreeClassifier(max_features='auto', random_state=535086993),\n",
              " DecisionTreeClassifier(max_features='auto', random_state=439424586),\n",
              " DecisionTreeClassifier(max_features='auto', random_state=1525211484),\n",
              " DecisionTreeClassifier(max_features='auto', random_state=1299784988),\n",
              " DecisionTreeClassifier(max_features='auto', random_state=439364316),\n",
              " DecisionTreeClassifier(max_features='auto', random_state=41263733),\n",
              " DecisionTreeClassifier(max_features='auto', random_state=1192685883),\n",
              " DecisionTreeClassifier(max_features='auto', random_state=2095289047),\n",
              " DecisionTreeClassifier(max_features='auto', random_state=1994219869),\n",
              " DecisionTreeClassifier(max_features='auto', random_state=1968753695),\n",
              " DecisionTreeClassifier(max_features='auto', random_state=2004882023),\n",
              " DecisionTreeClassifier(max_features='auto', random_state=1309453877),\n",
              " DecisionTreeClassifier(max_features='auto', random_state=552056950),\n",
              " DecisionTreeClassifier(max_features='auto', random_state=1777220708),\n",
              " DecisionTreeClassifier(max_features='auto', random_state=1466704929),\n",
              " DecisionTreeClassifier(max_features='auto', random_state=807124480),\n",
              " DecisionTreeClassifier(max_features='auto', random_state=32066225),\n",
              " DecisionTreeClassifier(max_features='auto', random_state=615338312),\n",
              " DecisionTreeClassifier(max_features='auto', random_state=168860168),\n",
              " DecisionTreeClassifier(max_features='auto', random_state=624961536),\n",
              " DecisionTreeClassifier(max_features='auto', random_state=315798552),\n",
              " DecisionTreeClassifier(max_features='auto', random_state=593967446),\n",
              " DecisionTreeClassifier(max_features='auto', random_state=503119449),\n",
              " DecisionTreeClassifier(max_features='auto', random_state=690641639),\n",
              " DecisionTreeClassifier(max_features='auto', random_state=1164075102),\n",
              " DecisionTreeClassifier(max_features='auto', random_state=2065681260),\n",
              " DecisionTreeClassifier(max_features='auto', random_state=1731034449),\n",
              " DecisionTreeClassifier(max_features='auto', random_state=1763904970),\n",
              " DecisionTreeClassifier(max_features='auto', random_state=228036471),\n",
              " DecisionTreeClassifier(max_features='auto', random_state=842270641),\n",
              " DecisionTreeClassifier(max_features='auto', random_state=142059046),\n",
              " DecisionTreeClassifier(max_features='auto', random_state=1038950007)]"
            ]
          },
          "metadata": {},
          "execution_count": 123
        }
      ],
      "source": [
        "# The collection of fitted sub-estimators.\n",
        "RFC.estimators_"
      ]
    },
    {
      "cell_type": "code",
      "execution_count": null,
      "metadata": {
        "colab": {
          "base_uri": "https://localhost:8080/"
        },
        "id": "AUUBVz_5geYD",
        "outputId": "154390a5-a514-4bbc-a465-d6dfd4563b66"
      },
      "outputs": [
        {
          "output_type": "execute_result",
          "data": {
            "text/plain": [
              "array([0, 1])"
            ]
          },
          "metadata": {},
          "execution_count": 124
        }
      ],
      "source": [
        "# The classes labels (single output problem), or a list of arrays of class labels (multi-output problem).\n",
        "RFC.classes_"
      ]
    },
    {
      "cell_type": "code",
      "execution_count": null,
      "metadata": {
        "colab": {
          "base_uri": "https://localhost:8080/"
        },
        "id": "qTOJ0OXUgeVh",
        "outputId": "6e900912-f7aa-406e-e7d9-939ce57f81fc"
      },
      "outputs": [
        {
          "output_type": "execute_result",
          "data": {
            "text/plain": [
              "2"
            ]
          },
          "metadata": {},
          "execution_count": 125
        }
      ],
      "source": [
        "# The number of classes (single output problem), or a list containing the number of classes for each output (multi-output problem).\n",
        "RFC.n_classes_"
      ]
    },
    {
      "cell_type": "code",
      "execution_count": null,
      "metadata": {
        "colab": {
          "base_uri": "https://localhost:8080/"
        },
        "id": "iMU5YVLkgeRN",
        "outputId": "f53d0eb1-ad50-419f-d31d-a85cdcc39878"
      },
      "outputs": [
        {
          "output_type": "execute_result",
          "data": {
            "text/plain": [
              "48"
            ]
          },
          "metadata": {},
          "execution_count": 126
        }
      ],
      "source": [
        "# Number of features seen during fit.\n",
        "RFC.n_features_in_"
      ]
    },
    {
      "cell_type": "code",
      "execution_count": null,
      "metadata": {
        "colab": {
          "base_uri": "https://localhost:8080/"
        },
        "id": "TQZkCJLBgePJ",
        "outputId": "7fc27494-29c8-40bb-b3e5-c98f67e9314c"
      },
      "outputs": [
        {
          "output_type": "execute_result",
          "data": {
            "text/plain": [
              "1"
            ]
          },
          "metadata": {},
          "execution_count": 127
        }
      ],
      "source": [
        "# The number of outputs when fit is performed.\n",
        "RFC.n_outputs_"
      ]
    },
    {
      "cell_type": "code",
      "execution_count": null,
      "metadata": {
        "colab": {
          "base_uri": "https://localhost:8080/"
        },
        "id": "oqcsgdWDgeLz",
        "outputId": "2a8b42ca-658e-4a2f-ea46-b2ac86203674"
      },
      "outputs": [
        {
          "output_type": "execute_result",
          "data": {
            "text/plain": [
              "array([0.00000000e+00, 6.29163912e-06, 0.00000000e+00, 0.00000000e+00,\n",
              "       0.00000000e+00, 6.54711078e-06, 2.92420573e-05, 2.10502418e-05,\n",
              "       3.17657620e-06, 3.56635459e-06, 2.28069301e-05, 5.50157599e-06,\n",
              "       4.23302550e-05, 2.18716800e-05, 1.14420209e-04, 9.95483377e-05,\n",
              "       3.56250729e-04, 3.83071752e-04, 5.96464999e-04, 1.45466271e-03,\n",
              "       1.21995581e-03, 2.95849955e-03, 2.43959300e-03, 3.02653824e-03,\n",
              "       3.95084848e-03, 5.85520618e-03, 7.85128754e-03, 9.65320288e-03,\n",
              "       1.27181655e-02, 1.25837635e-02, 1.44794699e-02, 1.81424925e-02,\n",
              "       2.15256863e-02, 2.45584171e-02, 3.15083506e-02, 3.38058083e-02,\n",
              "       4.09012223e-02, 4.54583320e-02, 4.99031679e-02, 5.23109013e-02,\n",
              "       6.36046992e-02, 6.62408276e-02, 6.59661990e-02, 7.10332867e-02,\n",
              "       7.38701896e-02, 8.49787704e-02, 8.72152199e-02, 8.90730954e-02])"
            ]
          },
          "metadata": {},
          "execution_count": 128
        }
      ],
      "source": [
        "# The impurity-based feature importances.\n",
        "RFC.feature_importances_"
      ]
    },
    {
      "cell_type": "code",
      "execution_count": null,
      "metadata": {
        "colab": {
          "base_uri": "https://localhost:8080/"
        },
        "id": "mUBLC_QRgoVj",
        "outputId": "43584c17-f661-488f-9b8a-a5216cd72db8"
      },
      "outputs": [
        {
          "output_type": "execute_result",
          "data": {
            "text/plain": [
              "0.7303845298955324"
            ]
          },
          "metadata": {},
          "execution_count": 129
        }
      ],
      "source": [
        "# Score of the training dataset obtained using an out-of-bag estimate. \n",
        "RFC.oob_score_"
      ]
    },
    {
      "cell_type": "code",
      "execution_count": null,
      "metadata": {
        "colab": {
          "base_uri": "https://localhost:8080/"
        },
        "id": "3FlPcGQogoQ1",
        "outputId": "21c79b8b-09b0-4b94-b2c6-e019016ce26c"
      },
      "outputs": [
        {
          "output_type": "execute_result",
          "data": {
            "text/plain": [
              "array([[0.        , 1.        ],\n",
              "       [0.44444444, 0.55555556],\n",
              "       [0.81818182, 0.18181818],\n",
              "       ...,\n",
              "       [0.69230769, 0.30769231],\n",
              "       [0.48484848, 0.51515152],\n",
              "       [0.02702703, 0.97297297]])"
            ]
          },
          "metadata": {},
          "execution_count": 130
        }
      ],
      "source": [
        "'''\n",
        "Decision function computed with out-of-bag estimate on the training set. \n",
        "If n_estimators is small it might be possible that a data point was never left out during the bootstrap. \n",
        "In this case, oob_decision_function_ might contain NaN.\n",
        "'''\n",
        "RFC.oob_decision_function_"
      ]
    },
    {
      "cell_type": "code",
      "source": [
        "count = 0\n",
        "for each in RFC.estimators_:\n",
        "  count = count + 1\n",
        "\n",
        "print(count)"
      ],
      "metadata": {
        "colab": {
          "base_uri": "https://localhost:8080/"
        },
        "id": "llifMILH_v7T",
        "outputId": "7ddc47ef-3f0a-4282-a653-267a5b00dbd7"
      },
      "execution_count": null,
      "outputs": [
        {
          "output_type": "stream",
          "name": "stdout",
          "text": [
            "100\n"
          ]
        }
      ]
    },
    {
      "cell_type": "code",
      "source": [
        "'''for each in range(0,100):\n",
        "  file_name1 = 'tree_' + str(each) + '.dot'\n",
        "  file_name2 = 'tree_' + str(each) + '.png'\n",
        "  export_graphviz(RFC.estimators_[0], \n",
        "                out_file=file_name1, \n",
        "                filled = True)\n",
        "  (graph,) = pydot.graph_from_dot_file(file_name1)\n",
        "  graph.write_png(file_name2)\n",
        "  source = '/content/' + file_name2\n",
        "  destination =  \"/content/drive/MyDrive/sem8/nlp/mini p /PNGs\"\n",
        "  shutil.copy(source, destination)\n",
        "  print(file_name2 + ' downloaded')'''"
      ],
      "metadata": {
        "colab": {
          "base_uri": "https://localhost:8080/"
        },
        "id": "JCDPKmHeHfl_",
        "outputId": "b8586d65-f800-479c-b0a2-0e3e09d4ab06"
      },
      "execution_count": null,
      "outputs": [
        {
          "output_type": "stream",
          "name": "stdout",
          "text": [
            "tree_0.png downloaded\n",
            "tree_1.png downloaded\n",
            "tree_2.png downloaded\n",
            "tree_3.png downloaded\n",
            "tree_4.png downloaded\n",
            "tree_5.png downloaded\n",
            "tree_6.png downloaded\n",
            "tree_7.png downloaded\n",
            "tree_8.png downloaded\n",
            "tree_9.png downloaded\n",
            "tree_10.png downloaded\n",
            "tree_11.png downloaded\n",
            "tree_12.png downloaded\n",
            "tree_13.png downloaded\n",
            "tree_14.png downloaded\n",
            "tree_15.png downloaded\n",
            "tree_16.png downloaded\n",
            "tree_17.png downloaded\n",
            "tree_18.png downloaded\n",
            "tree_19.png downloaded\n",
            "tree_20.png downloaded\n",
            "tree_21.png downloaded\n",
            "tree_22.png downloaded\n",
            "tree_23.png downloaded\n",
            "tree_24.png downloaded\n",
            "tree_25.png downloaded\n",
            "tree_26.png downloaded\n",
            "tree_27.png downloaded\n",
            "tree_28.png downloaded\n",
            "tree_29.png downloaded\n",
            "tree_30.png downloaded\n",
            "tree_31.png downloaded\n",
            "tree_32.png downloaded\n",
            "tree_33.png downloaded\n",
            "tree_34.png downloaded\n",
            "tree_35.png downloaded\n",
            "tree_36.png downloaded\n",
            "tree_37.png downloaded\n",
            "tree_38.png downloaded\n",
            "tree_39.png downloaded\n",
            "tree_40.png downloaded\n",
            "tree_41.png downloaded\n",
            "tree_42.png downloaded\n",
            "tree_43.png downloaded\n",
            "tree_44.png downloaded\n",
            "tree_45.png downloaded\n",
            "tree_46.png downloaded\n",
            "tree_47.png downloaded\n",
            "tree_48.png downloaded\n",
            "tree_49.png downloaded\n",
            "tree_50.png downloaded\n",
            "tree_51.png downloaded\n",
            "tree_52.png downloaded\n",
            "tree_53.png downloaded\n",
            "tree_54.png downloaded\n",
            "tree_55.png downloaded\n",
            "tree_56.png downloaded\n",
            "tree_57.png downloaded\n",
            "tree_58.png downloaded\n",
            "tree_59.png downloaded\n",
            "tree_60.png downloaded\n",
            "tree_61.png downloaded\n",
            "tree_62.png downloaded\n",
            "tree_63.png downloaded\n",
            "tree_64.png downloaded\n",
            "tree_65.png downloaded\n",
            "tree_66.png downloaded\n",
            "tree_67.png downloaded\n",
            "tree_68.png downloaded\n",
            "tree_69.png downloaded\n",
            "tree_70.png downloaded\n",
            "tree_71.png downloaded\n",
            "tree_72.png downloaded\n",
            "tree_73.png downloaded\n",
            "tree_74.png downloaded\n",
            "tree_75.png downloaded\n",
            "tree_76.png downloaded\n",
            "tree_77.png downloaded\n",
            "tree_78.png downloaded\n",
            "tree_79.png downloaded\n",
            "tree_80.png downloaded\n",
            "tree_81.png downloaded\n",
            "tree_82.png downloaded\n",
            "tree_83.png downloaded\n",
            "tree_84.png downloaded\n",
            "tree_85.png downloaded\n",
            "tree_86.png downloaded\n",
            "tree_87.png downloaded\n",
            "tree_88.png downloaded\n",
            "tree_89.png downloaded\n",
            "tree_90.png downloaded\n",
            "tree_91.png downloaded\n",
            "tree_92.png downloaded\n",
            "tree_93.png downloaded\n",
            "tree_94.png downloaded\n",
            "tree_95.png downloaded\n",
            "tree_96.png downloaded\n",
            "tree_97.png downloaded\n",
            "tree_98.png downloaded\n",
            "tree_99.png downloaded\n"
          ]
        }
      ]
    }
  ],
  "metadata": {
    "accelerator": "GPU",
    "colab": {
      "collapsed_sections": [],
      "name": "v4",
      "provenance": []
    },
    "kernelspec": {
      "display_name": "Python 3",
      "name": "python3"
    },
    "language_info": {
      "name": "python"
    }
  },
  "nbformat": 4,
  "nbformat_minor": 0
}